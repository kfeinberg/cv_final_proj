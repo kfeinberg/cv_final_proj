{
 "cells": [
  {
   "cell_type": "markdown",
   "metadata": {},
   "source": [
    "## Object Detection for CS1430 Project:\n",
    "\n",
    " - This notebook will works as a way to explore different methods for object detection\n",
    "\n",
    " references:\n",
    "\n",
    "https://medium.com/deepquestai/object-detection-training-preparing-your-custom-dataset-6248679f0d1d \n",
    " https://medium.com/deepquestai/train-object-detection-ai-with-6-lines-of-code-6d087063f6ff"
   ]
  },
  {
   "cell_type": "code",
   "execution_count": 5,
   "metadata": {},
   "outputs": [
    {
     "name": "stderr",
     "output_type": "stream",
     "text": [
      "  % Total    % Received % Xferd  Average Speed   Time    Time     Time  Current\n",
      "                                 Dload  Upload   Total   Spent    Left  Speed\n",
      "\n",
      "  0     0    0     0    0     0      0      0 --:--:-- --:--:-- --:--:--     0\n",
      "  0     0    0     0    0     0      0      0 --:--:-- --:--:-- --:--:--     0\n",
      "  4 2596k    4  111k    0     0  83085      0  0:00:32  0:00:01  0:00:31 83202\n",
      " 10 2596k   10  271k    0     0   113k      0  0:00:22  0:00:02  0:00:20  113k\n",
      " 13 2596k   13  351k    0     0   103k      0  0:00:25  0:00:03  0:00:22  103k\n",
      " 18 2596k   18  479k    0     0   109k      0  0:00:23  0:00:04  0:00:19  109k\n",
      " 24 2596k   24  639k    0     0   119k      0  0:00:21  0:00:05  0:00:16  127k\n",
      " 30 2596k   30  783k    0     0   111k      0  0:00:23  0:00:07  0:00:16  118k\n",
      " 30 2596k   30  799k    0     0   108k      0  0:00:23  0:00:07  0:00:16  105k\n",
      " 32 2596k   32  847k    0     0   101k      0  0:00:25  0:00:08  0:00:17   99k\n",
      " 33 2596k   33  879k    0     0  95993      0  0:00:27  0:00:09  0:00:18 81772\n",
      " 34 2596k   34  895k    0     0  86995      0  0:00:30  0:00:10  0:00:20 50685\n",
      " 35 2596k   35  927k    0     0  83395      0  0:00:31  0:00:11  0:00:20 33843\n",
      " 38 2596k   38  991k    0     0  81983      0  0:00:32  0:00:12  0:00:20 39345\n",
      " 40 2596k   40 1039k    0     0  78424      0  0:00:33  0:00:13  0:00:20 37889\n",
      " 40 2596k   40 1055k    0     0  75181      0  0:00:35  0:00:14  0:00:21 36080\n",
      " 43 2596k   43 1119k    0     0  74510      0  0:00:35  0:00:15  0:00:20 47342\n",
      " 43 2596k   43 1135k    0     0  71039      0  0:00:37  0:00:16  0:00:21 42778\n",
      " 45 2596k   45 1183k    0     0  69788      0  0:00:38  0:00:17  0:00:21 39463\n",
      " 48 2596k   48 1263k    0     0  70152      0  0:00:37  0:00:18  0:00:19 47099\n",
      " 51 2596k   51 1327k    0     0  70180      0  0:00:37  0:00:19  0:00:18 55772\n",
      " 53 2596k   53 1391k    0     0  69962      0  0:00:38  0:00:20  0:00:18 55906\n",
      " 59 2596k   59 1535k    0     0  73592      0  0:00:36  0:00:21  0:00:15 81952\n",
      " 67 2596k   67 1743k    0     0  79831      0  0:00:33  0:00:22  0:00:11  112k\n",
      " 72 2596k   72 1887k    0     0  82724      0  0:00:32  0:00:23  0:00:09  126k\n",
      " 76 2596k   76 1983k    0     0  83275      0  0:00:31  0:00:24  0:00:07  130k\n",
      " 81 2596k   81 2111k    0     0  85209      0  0:00:31  0:00:25  0:00:06  143k\n",
      " 88 2596k   88 2287k    0     0  88427      0  0:00:30  0:00:26  0:00:04  146k\n",
      " 93 2596k   93 2415k    0     0  90365      0  0:00:29  0:00:27  0:00:02  134k\n",
      "100 2596k  100 2596k    0     0  93950      0  0:00:28  0:00:28 --:--:--  143k\n"
     ]
    }
   ],
   "source": [
    "!curl https://bootstrap.pypa.io/get-pip.py -o get-pip.py\n"
   ]
  },
  {
   "cell_type": "code",
   "execution_count": 6,
   "metadata": {},
   "outputs": [
    {
     "name": "stdout",
     "output_type": "stream",
     "text": [
      "Collecting pip\n",
      "  Using cached pip-22.0.4-py3-none-any.whl (2.1 MB)\n",
      "Installing collected packages: pip\n",
      "  Attempting uninstall: pip\n",
      "    Found existing installation: pip 22.0.4\n",
      "    Uninstalling pip-22.0.4:\n",
      "      Successfully uninstalled pip-22.0.4\n",
      "Successfully installed pip-22.0.4\n"
     ]
    },
    {
     "name": "stderr",
     "output_type": "stream",
     "text": [
      "WARNING: Ignoring invalid distribution -illow (c:\\users\\mtapi\\onedrive\\documents\\brown\\cs1430\\cs1430_env\\lib\\site-packages)\n",
      "WARNING: Ignoring invalid distribution -illow (c:\\users\\mtapi\\onedrive\\documents\\brown\\cs1430\\cs1430_env\\lib\\site-packages)\n",
      "WARNING: Ignoring invalid distribution -illow (c:\\users\\mtapi\\onedrive\\documents\\brown\\cs1430\\cs1430_env\\lib\\site-packages)\n",
      "    WARNING: Ignoring invalid distribution -illow (c:\\users\\mtapi\\onedrive\\documents\\brown\\cs1430\\cs1430_env\\lib\\site-packages)\n",
      "WARNING: Ignoring invalid distribution -illow (c:\\users\\mtapi\\onedrive\\documents\\brown\\cs1430\\cs1430_env\\lib\\site-packages)\n",
      "WARNING: Ignoring invalid distribution -illow (c:\\users\\mtapi\\onedrive\\documents\\brown\\cs1430\\cs1430_env\\lib\\site-packages)\n",
      "WARNING: Ignoring invalid distribution -illow (c:\\users\\mtapi\\onedrive\\documents\\brown\\cs1430\\cs1430_env\\lib\\site-packages)\n"
     ]
    }
   ],
   "source": [
    "!py get-pip.py"
   ]
  },
  {
   "cell_type": "code",
   "execution_count": 7,
   "metadata": {},
   "outputs": [
    {
     "name": "stdout",
     "output_type": "stream",
     "text": [
      "Requirement already satisfied: pyqt5 in c:\\users\\mtapi\\onedrive\\documents\\brown\\cs1430\\cs1430_env\\lib\\site-packages (5.15.6)\n",
      "Requirement already satisfied: lxml in c:\\users\\mtapi\\onedrive\\documents\\brown\\cs1430\\cs1430_env\\lib\\site-packages (4.8.0)\n",
      "Requirement already satisfied: PyQt5-sip<13,>=12.8 in c:\\users\\mtapi\\onedrive\\documents\\brown\\cs1430\\cs1430_env\\lib\\site-packages (from pyqt5) (12.10.1)\n",
      "Requirement already satisfied: PyQt5-Qt5>=5.15.2 in c:\\users\\mtapi\\onedrive\\documents\\brown\\cs1430\\cs1430_env\\lib\\site-packages (from pyqt5) (5.15.2)\n"
     ]
    },
    {
     "name": "stderr",
     "output_type": "stream",
     "text": [
      "WARNING: Ignoring invalid distribution -illow (c:\\users\\mtapi\\onedrive\\documents\\brown\\cs1430\\cs1430_env\\lib\\site-packages)\n",
      "WARNING: Ignoring invalid distribution -illow (c:\\users\\mtapi\\onedrive\\documents\\brown\\cs1430\\cs1430_env\\lib\\site-packages)\n",
      "WARNING: Ignoring invalid distribution -illow (c:\\users\\mtapi\\onedrive\\documents\\brown\\cs1430\\cs1430_env\\lib\\site-packages)\n",
      "WARNING: Ignoring invalid distribution -illow (c:\\users\\mtapi\\onedrive\\documents\\brown\\cs1430\\cs1430_env\\lib\\site-packages)\n",
      "WARNING: Ignoring invalid distribution -illow (c:\\users\\mtapi\\onedrive\\documents\\brown\\cs1430\\cs1430_env\\lib\\site-packages)\n"
     ]
    }
   ],
   "source": [
    "!pip install pyqt5 lxml"
   ]
  },
  {
   "cell_type": "code",
   "execution_count": 8,
   "metadata": {},
   "outputs": [
    {
     "name": "stdout",
     "output_type": "stream",
     "text": [
      "Requirement already satisfied: keras==2.4.3 in c:\\users\\mtapi\\onedrive\\documents\\brown\\cs1430\\cs1430_env\\lib\\site-packages (2.4.3)\n",
      "Requirement already satisfied: numpy==1.19.3 in c:\\users\\mtapi\\onedrive\\documents\\brown\\cs1430\\cs1430_env\\lib\\site-packages (1.19.3)\n",
      "Requirement already satisfied: pillow==7.0.0 in c:\\users\\mtapi\\onedrive\\documents\\brown\\cs1430\\cs1430_env\\lib\\site-packages (7.0.0)\n",
      "Requirement already satisfied: scipy==1.4.1 in c:\\users\\mtapi\\onedrive\\documents\\brown\\cs1430\\cs1430_env\\lib\\site-packages (1.4.1)\n",
      "Requirement already satisfied: h5py==2.10.0 in c:\\users\\mtapi\\onedrive\\documents\\brown\\cs1430\\cs1430_env\\lib\\site-packages (2.10.0)\n",
      "Requirement already satisfied: matplotlib==3.3.2 in c:\\users\\mtapi\\onedrive\\documents\\brown\\cs1430\\cs1430_env\\lib\\site-packages (3.3.2)\n",
      "Requirement already satisfied: opencv-python in c:\\users\\mtapi\\onedrive\\documents\\brown\\cs1430\\cs1430_env\\lib\\site-packages (4.5.5.64)\n"
     ]
    },
    {
     "name": "stderr",
     "output_type": "stream",
     "text": [
      "WARNING: Ignoring invalid distribution -illow (c:\\users\\mtapi\\onedrive\\documents\\brown\\cs1430\\cs1430_env\\lib\\site-packages)\n",
      "WARNING: Ignoring invalid distribution -illow (c:\\users\\mtapi\\onedrive\\documents\\brown\\cs1430\\cs1430_env\\lib\\site-packages)\n",
      "WARNING: Ignoring invalid distribution -illow (c:\\users\\mtapi\\onedrive\\documents\\brown\\cs1430\\cs1430_env\\lib\\site-packages)\n",
      "WARNING: Ignoring invalid distribution -illow (c:\\users\\mtapi\\onedrive\\documents\\brown\\cs1430\\cs1430_env\\lib\\site-packages)\n",
      "WARNING: Ignoring invalid distribution -illow (c:\\users\\mtapi\\onedrive\\documents\\brown\\cs1430\\cs1430_env\\lib\\site-packages)\n"
     ]
    },
    {
     "name": "stdout",
     "output_type": "stream",
     "text": [
      "Requirement already satisfied: keras-resnet==0.2.0 in c:\\users\\mtapi\\onedrive\\documents\\brown\\cs1430\\cs1430_env\\lib\\site-packages (0.2.0)\n",
      "Requirement already satisfied: pyyaml in c:\\users\\mtapi\\onedrive\\documents\\brown\\cs1430\\cs1430_env\\lib\\site-packages (from keras==2.4.3) (6.0)\n",
      "Requirement already satisfied: six in c:\\users\\mtapi\\onedrive\\documents\\brown\\cs1430\\cs1430_env\\lib\\site-packages (from h5py==2.10.0) (1.15.0)\n",
      "Requirement already satisfied: kiwisolver>=1.0.1 in c:\\users\\mtapi\\onedrive\\documents\\brown\\cs1430\\cs1430_env\\lib\\site-packages (from matplotlib==3.3.2) (1.3.2)\n",
      "Requirement already satisfied: python-dateutil>=2.1 in c:\\users\\mtapi\\onedrive\\documents\\brown\\cs1430\\cs1430_env\\lib\\site-packages (from matplotlib==3.3.2) (2.8.2)\n",
      "Requirement already satisfied: cycler>=0.10 in c:\\users\\mtapi\\onedrive\\documents\\brown\\cs1430\\cs1430_env\\lib\\site-packages (from matplotlib==3.3.2) (0.11.0)\n",
      "Requirement already satisfied: pyparsing!=2.0.4,!=2.1.2,!=2.1.6,>=2.0.3 in c:\\users\\mtapi\\onedrive\\documents\\brown\\cs1430\\cs1430_env\\lib\\site-packages (from matplotlib==3.3.2) (3.0.7)\n",
      "Requirement already satisfied: certifi>=2020.06.20 in c:\\users\\mtapi\\onedrive\\documents\\brown\\cs1430\\cs1430_env\\lib\\site-packages (from matplotlib==3.3.2) (2021.10.8)\n"
     ]
    }
   ],
   "source": [
    "!pip install keras==2.4.3 numpy==1.19.3 pillow==7.0.0 scipy==1.4.1 h5py==2.10.0 matplotlib==3.3.2 opencv-python keras-resnet==0.2.0 "
   ]
  },
  {
   "cell_type": "code",
   "execution_count": 9,
   "metadata": {},
   "outputs": [
    {
     "name": "stdout",
     "output_type": "stream",
     "text": [
      "Requirement already satisfied: imageai in c:\\users\\mtapi\\onedrive\\documents\\brown\\cs1430\\cs1430_env\\lib\\site-packages (2.1.6)\n",
      "Requirement already satisfied: scipy==1.4.1 in c:\\users\\mtapi\\onedrive\\documents\\brown\\cs1430\\cs1430_env\\lib\\site-packages (from imageai) (1.4.1)\n",
      "Requirement already satisfied: h5py==2.10.0 in c:\\users\\mtapi\\onedrive\\documents\\brown\\cs1430\\cs1430_env\\lib\\site-packages (from imageai) (2.10.0)\n",
      "Requirement already satisfied: keras==2.4.3 in c:\\users\\mtapi\\onedrive\\documents\\brown\\cs1430\\cs1430_env\\lib\\site-packages (from imageai) (2.4.3)\n",
      "Requirement already satisfied: opencv-python in c:\\users\\mtapi\\onedrive\\documents\\brown\\cs1430\\cs1430_env\\lib\\site-packages (from imageai) (4.5.5.64)\n",
      "Requirement already satisfied: numpy==1.19.3 in c:\\users\\mtapi\\onedrive\\documents\\brown\\cs1430\\cs1430_env\\lib\\site-packages (from imageai) (1.19.3)\n",
      "Requirement already satisfied: keras-resnet==0.2.0 in c:\\users\\mtapi\\onedrive\\documents\\brown\\cs1430\\cs1430_env\\lib\\site-packages (from imageai) (0.2.0)\n",
      "Requirement already satisfied: pillow==7.0.0 in c:\\users\\mtapi\\onedrive\\documents\\brown\\cs1430\\cs1430_env\\lib\\site-packages (from imageai) (7.0.0)\n",
      "Requirement already satisfied: matplotlib==3.3.2 in c:\\users\\mtapi\\onedrive\\documents\\brown\\cs1430\\cs1430_env\\lib\\site-packages (from imageai) (3.3.2)\n",
      "Requirement already satisfied: six in c:\\users\\mtapi\\onedrive\\documents\\brown\\cs1430\\cs1430_env\\lib\\site-packages (from h5py==2.10.0->imageai) (1.15.0)\n",
      "Requirement already satisfied: pyyaml in c:\\users\\mtapi\\onedrive\\documents\\brown\\cs1430\\cs1430_env\\lib\\site-packages (from keras==2.4.3->imageai) (6.0)\n",
      "Requirement already satisfied: certifi>=2020.06.20 in c:\\users\\mtapi\\onedrive\\documents\\brown\\cs1430\\cs1430_env\\lib\\site-packages (from matplotlib==3.3.2->imageai) (2021.10.8)\n",
      "Requirement already satisfied: kiwisolver>=1.0.1 in c:\\users\\mtapi\\onedrive\\documents\\brown\\cs1430\\cs1430_env\\lib\\site-packages (from matplotlib==3.3.2->imageai) (1.3.2)\n",
      "Requirement already satisfied: cycler>=0.10 in c:\\users\\mtapi\\onedrive\\documents\\brown\\cs1430\\cs1430_env\\lib\\site-packages (from matplotlib==3.3.2->imageai) (0.11.0)\n",
      "Requirement already satisfied: python-dateutil>=2.1 in c:\\users\\mtapi\\onedrive\\documents\\brown\\cs1430\\cs1430_env\\lib\\site-packages (from matplotlib==3.3.2->imageai) (2.8.2)\n",
      "Requirement already satisfied: pyparsing!=2.0.4,!=2.1.2,!=2.1.6,>=2.0.3 in c:\\users\\mtapi\\onedrive\\documents\\brown\\cs1430\\cs1430_env\\lib\\site-packages (from matplotlib==3.3.2->imageai) (3.0.7)\n"
     ]
    },
    {
     "name": "stderr",
     "output_type": "stream",
     "text": [
      "WARNING: Ignoring invalid distribution -illow (c:\\users\\mtapi\\onedrive\\documents\\brown\\cs1430\\cs1430_env\\lib\\site-packages)\n",
      "WARNING: Ignoring invalid distribution -illow (c:\\users\\mtapi\\onedrive\\documents\\brown\\cs1430\\cs1430_env\\lib\\site-packages)\n",
      "WARNING: Ignoring invalid distribution -illow (c:\\users\\mtapi\\onedrive\\documents\\brown\\cs1430\\cs1430_env\\lib\\site-packages)\n",
      "WARNING: Ignoring invalid distribution -illow (c:\\users\\mtapi\\onedrive\\documents\\brown\\cs1430\\cs1430_env\\lib\\site-packages)\n",
      "WARNING: Ignoring invalid distribution -illow (c:\\users\\mtapi\\onedrive\\documents\\brown\\cs1430\\cs1430_env\\lib\\site-packages)\n"
     ]
    }
   ],
   "source": [
    "!pip install imageai --upgrade"
   ]
  },
  {
   "cell_type": "code",
   "execution_count": 4,
   "metadata": {},
   "outputs": [
    {
     "name": "stderr",
     "output_type": "stream",
     "text": [
      "WARNING: Ignoring invalid distribution -illow (c:\\users\\mtapi\\onedrive\\documents\\brown\\cs1430\\cs1430_env\\lib\\site-packages)\n",
      "WARNING: Ignoring invalid distribution -ensorflow-gpu (c:\\users\\mtapi\\onedrive\\documents\\brown\\cs1430\\cs1430_env\\lib\\site-packages)\n",
      "WARNING: Ignoring invalid distribution -illow (c:\\users\\mtapi\\onedrive\\documents\\brown\\cs1430\\cs1430_env\\lib\\site-packages)\n",
      "WARNING: Ignoring invalid distribution -ensorflow-gpu (c:\\users\\mtapi\\onedrive\\documents\\brown\\cs1430\\cs1430_env\\lib\\site-packages)\n",
      "WARNING: Skipping tensorflow as it is not installed.\n"
     ]
    },
    {
     "name": "stdout",
     "output_type": "stream",
     "text": [
      "^C\n"
     ]
    },
    {
     "name": "stderr",
     "output_type": "stream",
     "text": [
      "WARNING: Ignoring invalid distribution -illow (c:\\users\\mtapi\\onedrive\\documents\\brown\\cs1430\\cs1430_env\\lib\\site-packages)\n",
      "WARNING: Ignoring invalid distribution -ensorflow-gpu (c:\\users\\mtapi\\onedrive\\documents\\brown\\cs1430\\cs1430_env\\lib\\site-packages)\n",
      "WARNING: Ignoring invalid distribution -illow (c:\\users\\mtapi\\onedrive\\documents\\brown\\cs1430\\cs1430_env\\lib\\site-packages)\n",
      "WARNING: Ignoring invalid distribution -ensorflow-gpu (c:\\users\\mtapi\\onedrive\\documents\\brown\\cs1430\\cs1430_env\\lib\\site-packages)\n",
      "WARNING: Skipping tensorflow as it is not installed.\n"
     ]
    }
   ],
   "source": [
    "#!pip install tensorflow==2.4.0\n",
    "#!pip uninstall tensorflow"
   ]
  },
  {
   "cell_type": "code",
   "execution_count": 6,
   "metadata": {},
   "outputs": [
    {
     "name": "stdout",
     "output_type": "stream",
     "text": [
      "^C\n"
     ]
    },
    {
     "name": "stderr",
     "output_type": "stream",
     "text": [
      "WARNING: Ignoring invalid distribution -illow (c:\\users\\mtapi\\onedrive\\documents\\brown\\cs1430\\cs1430_env\\lib\\site-packages)\n",
      "WARNING: Ignoring invalid distribution -ensorflow-gpu (c:\\users\\mtapi\\onedrive\\documents\\brown\\cs1430\\cs1430_env\\lib\\site-packages)\n",
      "WARNING: Ignoring invalid distribution -illow (c:\\users\\mtapi\\onedrive\\documents\\brown\\cs1430\\cs1430_env\\lib\\site-packages)\n",
      "WARNING: Ignoring invalid distribution -ensorflow-gpu (c:\\users\\mtapi\\onedrive\\documents\\brown\\cs1430\\cs1430_env\\lib\\site-packages)\n",
      "WARNING: Ignoring invalid distribution -illow (c:\\users\\mtapi\\onedrive\\documents\\brown\\cs1430\\cs1430_env\\lib\\site-packages)\n",
      "WARNING: Ignoring invalid distribution -ensorflow-gpu (c:\\users\\mtapi\\onedrive\\documents\\brown\\cs1430\\cs1430_env\\lib\\site-packages)\n",
      "WARNING: Ignoring invalid distribution -illow (c:\\users\\mtapi\\onedrive\\documents\\brown\\cs1430\\cs1430_env\\lib\\site-packages)\n",
      "WARNING: Ignoring invalid distribution -ensorflow-gpu (c:\\users\\mtapi\\onedrive\\documents\\brown\\cs1430\\cs1430_env\\lib\\site-packages)\n",
      "WARNING: Ignoring invalid distribution -illow (c:\\users\\mtapi\\onedrive\\documents\\brown\\cs1430\\cs1430_env\\lib\\site-packages)\n",
      "WARNING: Ignoring invalid distribution -ensorflow-gpu (c:\\users\\mtapi\\onedrive\\documents\\brown\\cs1430\\cs1430_env\\lib\\site-packages)\n",
      "WARNING: Ignoring invalid distribution -illow (c:\\users\\mtapi\\onedrive\\documents\\brown\\cs1430\\cs1430_env\\lib\\site-packages)\n",
      "WARNING: Ignoring invalid distribution -ensorflow-gpu (c:\\users\\mtapi\\onedrive\\documents\\brown\\cs1430\\cs1430_env\\lib\\site-packages)\n"
     ]
    },
    {
     "name": "stdout",
     "output_type": "stream",
     "text": [
      "Collecting tensorflow-gpu==2.4.0\n",
      "  Using cached tensorflow_gpu-2.4.0-cp38-cp38-win_amd64.whl (370.7 MB)\n",
      "Requirement already satisfied: wheel~=0.35 in c:\\users\\mtapi\\onedrive\\documents\\brown\\cs1430\\cs1430_env\\lib\\site-packages (from tensorflow-gpu==2.4.0) (0.37.1)\n",
      "Requirement already satisfied: numpy~=1.19.2 in c:\\users\\mtapi\\onedrive\\documents\\brown\\cs1430\\cs1430_env\\lib\\site-packages (from tensorflow-gpu==2.4.0) (1.19.3)\n",
      "Requirement already satisfied: protobuf>=3.9.2 in c:\\users\\mtapi\\onedrive\\documents\\brown\\cs1430\\cs1430_env\\lib\\site-packages (from tensorflow-gpu==2.4.0) (3.19.3)\n",
      "Requirement already satisfied: grpcio~=1.32.0 in c:\\users\\mtapi\\onedrive\\documents\\brown\\cs1430\\cs1430_env\\lib\\site-packages (from tensorflow-gpu==2.4.0) (1.32.0)\n",
      "Requirement already satisfied: termcolor~=1.1.0 in c:\\users\\mtapi\\onedrive\\documents\\brown\\cs1430\\cs1430_env\\lib\\site-packages (from tensorflow-gpu==2.4.0) (1.1.0)\n",
      "Requirement already satisfied: astunparse~=1.6.3 in c:\\users\\mtapi\\onedrive\\documents\\brown\\cs1430\\cs1430_env\\lib\\site-packages (from tensorflow-gpu==2.4.0) (1.6.3)\n",
      "Requirement already satisfied: flatbuffers~=1.12.0 in c:\\users\\mtapi\\onedrive\\documents\\brown\\cs1430\\cs1430_env\\lib\\site-packages (from tensorflow-gpu==2.4.0) (1.12)\n",
      "Requirement already satisfied: google-pasta~=0.2 in c:\\users\\mtapi\\onedrive\\documents\\brown\\cs1430\\cs1430_env\\lib\\site-packages (from tensorflow-gpu==2.4.0) (0.2.0)\n",
      "Requirement already satisfied: opt-einsum~=3.3.0 in c:\\users\\mtapi\\onedrive\\documents\\brown\\cs1430\\cs1430_env\\lib\\site-packages (from tensorflow-gpu==2.4.0) (3.3.0)\n",
      "Requirement already satisfied: h5py~=2.10.0 in c:\\users\\mtapi\\onedrive\\documents\\brown\\cs1430\\cs1430_env\\lib\\site-packages (from tensorflow-gpu==2.4.0) (2.10.0)\n",
      "Requirement already satisfied: absl-py~=0.10 in c:\\users\\mtapi\\onedrive\\documents\\brown\\cs1430\\cs1430_env\\lib\\site-packages (from tensorflow-gpu==2.4.0) (0.15.0)\n",
      "Requirement already satisfied: tensorboard~=2.4 in c:\\users\\mtapi\\onedrive\\documents\\brown\\cs1430\\cs1430_env\\lib\\site-packages (from tensorflow-gpu==2.4.0) (2.8.0)\n",
      "Requirement already satisfied: tensorflow-estimator<2.5.0,>=2.4.0rc0 in c:\\users\\mtapi\\onedrive\\documents\\brown\\cs1430\\cs1430_env\\lib\\site-packages (from tensorflow-gpu==2.4.0) (2.4.0)\n",
      "Requirement already satisfied: typing-extensions~=3.7.4 in c:\\users\\mtapi\\onedrive\\documents\\brown\\cs1430\\cs1430_env\\lib\\site-packages (from tensorflow-gpu==2.4.0) (3.7.4.3)\n",
      "Requirement already satisfied: keras-preprocessing~=1.1.2 in c:\\users\\mtapi\\onedrive\\documents\\brown\\cs1430\\cs1430_env\\lib\\site-packages (from tensorflow-gpu==2.4.0) (1.1.2)\n",
      "Requirement already satisfied: wrapt~=1.12.1 in c:\\users\\mtapi\\onedrive\\documents\\brown\\cs1430\\cs1430_env\\lib\\site-packages (from tensorflow-gpu==2.4.0) (1.12.1)\n",
      "Requirement already satisfied: gast==0.3.3 in c:\\users\\mtapi\\onedrive\\documents\\brown\\cs1430\\cs1430_env\\lib\\site-packages (from tensorflow-gpu==2.4.0) (0.3.3)\n",
      "Requirement already satisfied: six~=1.15.0 in c:\\users\\mtapi\\onedrive\\documents\\brown\\cs1430\\cs1430_env\\lib\\site-packages (from tensorflow-gpu==2.4.0) (1.15.0)\n",
      "Requirement already satisfied: tensorboard-plugin-wit>=1.6.0 in c:\\users\\mtapi\\onedrive\\documents\\brown\\cs1430\\cs1430_env\\lib\\site-packages (from tensorboard~=2.4->tensorflow-gpu==2.4.0) (1.8.1)\n",
      "Requirement already satisfied: markdown>=2.6.8 in c:\\users\\mtapi\\onedrive\\documents\\brown\\cs1430\\cs1430_env\\lib\\site-packages (from tensorboard~=2.4->tensorflow-gpu==2.4.0) (3.3.6)\n",
      "Requirement already satisfied: google-auth-oauthlib<0.5,>=0.4.1 in c:\\users\\mtapi\\onedrive\\documents\\brown\\cs1430\\cs1430_env\\lib\\site-packages (from tensorboard~=2.4->tensorflow-gpu==2.4.0) (0.4.6)\n",
      "Requirement already satisfied: tensorboard-data-server<0.7.0,>=0.6.0 in c:\\users\\mtapi\\onedrive\\documents\\brown\\cs1430\\cs1430_env\\lib\\site-packages (from tensorboard~=2.4->tensorflow-gpu==2.4.0) (0.6.1)\n",
      "Requirement already satisfied: requests<3,>=2.21.0 in c:\\users\\mtapi\\onedrive\\documents\\brown\\cs1430\\cs1430_env\\lib\\site-packages (from tensorboard~=2.4->tensorflow-gpu==2.4.0) (2.27.1)\n",
      "Requirement already satisfied: google-auth<3,>=1.6.3 in c:\\users\\mtapi\\onedrive\\documents\\brown\\cs1430\\cs1430_env\\lib\\site-packages (from tensorboard~=2.4->tensorflow-gpu==2.4.0) (1.35.0)\n",
      "Requirement already satisfied: setuptools>=41.0.0 in c:\\users\\mtapi\\onedrive\\documents\\brown\\cs1430\\cs1430_env\\lib\\site-packages (from tensorboard~=2.4->tensorflow-gpu==2.4.0) (60.7.1)\n",
      "Requirement already satisfied: werkzeug>=0.11.15 in c:\\users\\mtapi\\onedrive\\documents\\brown\\cs1430\\cs1430_env\\lib\\site-packages (from tensorboard~=2.4->tensorflow-gpu==2.4.0) (2.0.2)\n",
      "Requirement already satisfied: pyasn1-modules>=0.2.1 in c:\\users\\mtapi\\onedrive\\documents\\brown\\cs1430\\cs1430_env\\lib\\site-packages (from google-auth<3,>=1.6.3->tensorboard~=2.4->tensorflow-gpu==2.4.0) (0.2.8)\n",
      "Requirement already satisfied: cachetools<5.0,>=2.0.0 in c:\\users\\mtapi\\onedrive\\documents\\brown\\cs1430\\cs1430_env\\lib\\site-packages (from google-auth<3,>=1.6.3->tensorboard~=2.4->tensorflow-gpu==2.4.0) (4.2.4)\n",
      "Requirement already satisfied: rsa<5,>=3.1.4 in c:\\users\\mtapi\\onedrive\\documents\\brown\\cs1430\\cs1430_env\\lib\\site-packages (from google-auth<3,>=1.6.3->tensorboard~=2.4->tensorflow-gpu==2.4.0) (4.8)\n",
      "Requirement already satisfied: requests-oauthlib>=0.7.0 in c:\\users\\mtapi\\onedrive\\documents\\brown\\cs1430\\cs1430_env\\lib\\site-packages (from google-auth-oauthlib<0.5,>=0.4.1->tensorboard~=2.4->tensorflow-gpu==2.4.0) (1.3.0)\n",
      "Requirement already satisfied: importlib-metadata>=4.4 in c:\\users\\mtapi\\onedrive\\documents\\brown\\cs1430\\cs1430_env\\lib\\site-packages (from markdown>=2.6.8->tensorboard~=2.4->tensorflow-gpu==2.4.0) (4.10.1)\n",
      "Requirement already satisfied: charset-normalizer~=2.0.0 in c:\\users\\mtapi\\onedrive\\documents\\brown\\cs1430\\cs1430_env\\lib\\site-packages (from requests<3,>=2.21.0->tensorboard~=2.4->tensorflow-gpu==2.4.0) (2.0.11)\n",
      "Requirement already satisfied: urllib3<1.27,>=1.21.1 in c:\\users\\mtapi\\onedrive\\documents\\brown\\cs1430\\cs1430_env\\lib\\site-packages (from requests<3,>=2.21.0->tensorboard~=2.4->tensorflow-gpu==2.4.0) (1.26.8)\n",
      "Requirement already satisfied: idna<4,>=2.5 in c:\\users\\mtapi\\onedrive\\documents\\brown\\cs1430\\cs1430_env\\lib\\site-packages (from requests<3,>=2.21.0->tensorboard~=2.4->tensorflow-gpu==2.4.0) (3.3)\n",
      "Requirement already satisfied: certifi>=2017.4.17 in c:\\users\\mtapi\\onedrive\\documents\\brown\\cs1430\\cs1430_env\\lib\\site-packages (from requests<3,>=2.21.0->tensorboard~=2.4->tensorflow-gpu==2.4.0) (2021.10.8)\n",
      "Requirement already satisfied: zipp>=0.5 in c:\\users\\mtapi\\onedrive\\documents\\brown\\cs1430\\cs1430_env\\lib\\site-packages (from importlib-metadata>=4.4->markdown>=2.6.8->tensorboard~=2.4->tensorflow-gpu==2.4.0) (3.7.0)\n",
      "Requirement already satisfied: pyasn1<0.5.0,>=0.4.6 in c:\\users\\mtapi\\onedrive\\documents\\brown\\cs1430\\cs1430_env\\lib\\site-packages (from pyasn1-modules>=0.2.1->google-auth<3,>=1.6.3->tensorboard~=2.4->tensorflow-gpu==2.4.0) (0.4.8)\n",
      "Requirement already satisfied: oauthlib>=3.0.0 in c:\\users\\mtapi\\onedrive\\documents\\brown\\cs1430\\cs1430_env\\lib\\site-packages (from requests-oauthlib>=0.7.0->google-auth-oauthlib<0.5,>=0.4.1->tensorboard~=2.4->tensorflow-gpu==2.4.0) (3.1.1)\n",
      "Installing collected packages: tensorflow-gpu\n",
      "Successfully installed tensorflow-gpu-2.4.0\n"
     ]
    },
    {
     "name": "stderr",
     "output_type": "stream",
     "text": [
      "WARNING: Ignoring invalid distribution -illow (c:\\users\\mtapi\\onedrive\\documents\\brown\\cs1430\\cs1430_env\\lib\\site-packages)\n",
      "WARNING: Ignoring invalid distribution -ensorflow-gpu (c:\\users\\mtapi\\onedrive\\documents\\brown\\cs1430\\cs1430_env\\lib\\site-packages)\n",
      "WARNING: Ignoring invalid distribution -illow (c:\\users\\mtapi\\onedrive\\documents\\brown\\cs1430\\cs1430_env\\lib\\site-packages)\n",
      "WARNING: Ignoring invalid distribution -ensorflow-gpu (c:\\users\\mtapi\\onedrive\\documents\\brown\\cs1430\\cs1430_env\\lib\\site-packages)\n",
      "WARNING: Ignoring invalid distribution -illow (c:\\users\\mtapi\\onedrive\\documents\\brown\\cs1430\\cs1430_env\\lib\\site-packages)\n",
      "WARNING: Ignoring invalid distribution -ensorflow-gpu (c:\\users\\mtapi\\onedrive\\documents\\brown\\cs1430\\cs1430_env\\lib\\site-packages)\n",
      "WARNING: Ignoring invalid distribution -illow (c:\\users\\mtapi\\onedrive\\documents\\brown\\cs1430\\cs1430_env\\lib\\site-packages)\n",
      "WARNING: Ignoring invalid distribution -ensorflow-gpu (c:\\users\\mtapi\\onedrive\\documents\\brown\\cs1430\\cs1430_env\\lib\\site-packages)\n",
      "WARNING: Ignoring invalid distribution -illow (c:\\users\\mtapi\\onedrive\\documents\\brown\\cs1430\\cs1430_env\\lib\\site-packages)\n",
      "WARNING: Ignoring invalid distribution -ensorflow-gpu (c:\\users\\mtapi\\onedrive\\documents\\brown\\cs1430\\cs1430_env\\lib\\site-packages)\n",
      "WARNING: Ignoring invalid distribution -illow (c:\\users\\mtapi\\onedrive\\documents\\brown\\cs1430\\cs1430_env\\lib\\site-packages)\n",
      "WARNING: Ignoring invalid distribution -ensorflow-gpu (c:\\users\\mtapi\\onedrive\\documents\\brown\\cs1430\\cs1430_env\\lib\\site-packages)\n"
     ]
    },
    {
     "name": "stdout",
     "output_type": "stream",
     "text": [
      "Collecting tensorflow-gpu==2.4.0\n",
      "  Using cached tensorflow_gpu-2.4.0-cp38-cp38-win_amd64.whl (370.7 MB)\n",
      "Requirement already satisfied: typing-extensions~=3.7.4 in c:\\users\\mtapi\\onedrive\\documents\\brown\\cs1430\\cs1430_env\\lib\\site-packages (from tensorflow-gpu==2.4.0) (3.7.4.3)\n",
      "Requirement already satisfied: grpcio~=1.32.0 in c:\\users\\mtapi\\onedrive\\documents\\brown\\cs1430\\cs1430_env\\lib\\site-packages (from tensorflow-gpu==2.4.0) (1.32.0)\n",
      "Requirement already satisfied: numpy~=1.19.2 in c:\\users\\mtapi\\onedrive\\documents\\brown\\cs1430\\cs1430_env\\lib\\site-packages (from tensorflow-gpu==2.4.0) (1.19.3)\n",
      "Requirement already satisfied: six~=1.15.0 in c:\\users\\mtapi\\onedrive\\documents\\brown\\cs1430\\cs1430_env\\lib\\site-packages (from tensorflow-gpu==2.4.0) (1.15.0)\n",
      "Requirement already satisfied: tensorflow-estimator<2.5.0,>=2.4.0rc0 in c:\\users\\mtapi\\onedrive\\documents\\brown\\cs1430\\cs1430_env\\lib\\site-packages (from tensorflow-gpu==2.4.0) (2.4.0)\n",
      "Requirement already satisfied: gast==0.3.3 in c:\\users\\mtapi\\onedrive\\documents\\brown\\cs1430\\cs1430_env\\lib\\site-packages (from tensorflow-gpu==2.4.0) (0.3.3)\n",
      "Requirement already satisfied: wheel~=0.35 in c:\\users\\mtapi\\onedrive\\documents\\brown\\cs1430\\cs1430_env\\lib\\site-packages (from tensorflow-gpu==2.4.0) (0.37.1)\n",
      "Requirement already satisfied: keras-preprocessing~=1.1.2 in c:\\users\\mtapi\\onedrive\\documents\\brown\\cs1430\\cs1430_env\\lib\\site-packages (from tensorflow-gpu==2.4.0) (1.1.2)\n",
      "Requirement already satisfied: google-pasta~=0.2 in c:\\users\\mtapi\\onedrive\\documents\\brown\\cs1430\\cs1430_env\\lib\\site-packages (from tensorflow-gpu==2.4.0) (0.2.0)\n",
      "Requirement already satisfied: flatbuffers~=1.12.0 in c:\\users\\mtapi\\onedrive\\documents\\brown\\cs1430\\cs1430_env\\lib\\site-packages (from tensorflow-gpu==2.4.0) (1.12)\n",
      "Requirement already satisfied: opt-einsum~=3.3.0 in c:\\users\\mtapi\\onedrive\\documents\\brown\\cs1430\\cs1430_env\\lib\\site-packages (from tensorflow-gpu==2.4.0) (3.3.0)\n",
      "Requirement already satisfied: protobuf>=3.9.2 in c:\\users\\mtapi\\onedrive\\documents\\brown\\cs1430\\cs1430_env\\lib\\site-packages (from tensorflow-gpu==2.4.0) (3.19.3)\n",
      "Requirement already satisfied: wrapt~=1.12.1 in c:\\users\\mtapi\\onedrive\\documents\\brown\\cs1430\\cs1430_env\\lib\\site-packages (from tensorflow-gpu==2.4.0) (1.12.1)\n",
      "Requirement already satisfied: absl-py~=0.10 in c:\\users\\mtapi\\onedrive\\documents\\brown\\cs1430\\cs1430_env\\lib\\site-packages (from tensorflow-gpu==2.4.0) (0.15.0)\n",
      "Requirement already satisfied: h5py~=2.10.0 in c:\\users\\mtapi\\onedrive\\documents\\brown\\cs1430\\cs1430_env\\lib\\site-packages (from tensorflow-gpu==2.4.0) (2.10.0)\n",
      "Requirement already satisfied: termcolor~=1.1.0 in c:\\users\\mtapi\\onedrive\\documents\\brown\\cs1430\\cs1430_env\\lib\\site-packages (from tensorflow-gpu==2.4.0) (1.1.0)\n",
      "Requirement already satisfied: tensorboard~=2.4 in c:\\users\\mtapi\\onedrive\\documents\\brown\\cs1430\\cs1430_env\\lib\\site-packages (from tensorflow-gpu==2.4.0) (2.8.0)\n",
      "Requirement already satisfied: astunparse~=1.6.3 in c:\\users\\mtapi\\onedrive\\documents\\brown\\cs1430\\cs1430_env\\lib\\site-packages (from tensorflow-gpu==2.4.0) (1.6.3)\n",
      "Requirement already satisfied: werkzeug>=0.11.15 in c:\\users\\mtapi\\onedrive\\documents\\brown\\cs1430\\cs1430_env\\lib\\site-packages (from tensorboard~=2.4->tensorflow-gpu==2.4.0) (2.0.2)\n",
      "Requirement already satisfied: tensorboard-plugin-wit>=1.6.0 in c:\\users\\mtapi\\onedrive\\documents\\brown\\cs1430\\cs1430_env\\lib\\site-packages (from tensorboard~=2.4->tensorflow-gpu==2.4.0) (1.8.1)\n",
      "Requirement already satisfied: tensorboard-data-server<0.7.0,>=0.6.0 in c:\\users\\mtapi\\onedrive\\documents\\brown\\cs1430\\cs1430_env\\lib\\site-packages (from tensorboard~=2.4->tensorflow-gpu==2.4.0) (0.6.1)\n",
      "Requirement already satisfied: markdown>=2.6.8 in c:\\users\\mtapi\\onedrive\\documents\\brown\\cs1430\\cs1430_env\\lib\\site-packages (from tensorboard~=2.4->tensorflow-gpu==2.4.0) (3.3.6)\n",
      "Requirement already satisfied: setuptools>=41.0.0 in c:\\users\\mtapi\\onedrive\\documents\\brown\\cs1430\\cs1430_env\\lib\\site-packages (from tensorboard~=2.4->tensorflow-gpu==2.4.0) (60.7.1)\n",
      "Requirement already satisfied: requests<3,>=2.21.0 in c:\\users\\mtapi\\onedrive\\documents\\brown\\cs1430\\cs1430_env\\lib\\site-packages (from tensorboard~=2.4->tensorflow-gpu==2.4.0) (2.27.1)\n",
      "Requirement already satisfied: google-auth<3,>=1.6.3 in c:\\users\\mtapi\\onedrive\\documents\\brown\\cs1430\\cs1430_env\\lib\\site-packages (from tensorboard~=2.4->tensorflow-gpu==2.4.0) (1.35.0)\n",
      "Requirement already satisfied: google-auth-oauthlib<0.5,>=0.4.1 in c:\\users\\mtapi\\onedrive\\documents\\brown\\cs1430\\cs1430_env\\lib\\site-packages (from tensorboard~=2.4->tensorflow-gpu==2.4.0) (0.4.6)\n",
      "Requirement already satisfied: rsa<5,>=3.1.4 in c:\\users\\mtapi\\onedrive\\documents\\brown\\cs1430\\cs1430_env\\lib\\site-packages (from google-auth<3,>=1.6.3->tensorboard~=2.4->tensorflow-gpu==2.4.0) (4.8)\n",
      "Requirement already satisfied: cachetools<5.0,>=2.0.0 in c:\\users\\mtapi\\onedrive\\documents\\brown\\cs1430\\cs1430_env\\lib\\site-packages (from google-auth<3,>=1.6.3->tensorboard~=2.4->tensorflow-gpu==2.4.0) (4.2.4)\n",
      "Requirement already satisfied: pyasn1-modules>=0.2.1 in c:\\users\\mtapi\\onedrive\\documents\\brown\\cs1430\\cs1430_env\\lib\\site-packages (from google-auth<3,>=1.6.3->tensorboard~=2.4->tensorflow-gpu==2.4.0) (0.2.8)\n",
      "Requirement already satisfied: requests-oauthlib>=0.7.0 in c:\\users\\mtapi\\onedrive\\documents\\brown\\cs1430\\cs1430_env\\lib\\site-packages (from google-auth-oauthlib<0.5,>=0.4.1->tensorboard~=2.4->tensorflow-gpu==2.4.0) (1.3.0)\n",
      "Requirement already satisfied: importlib-metadata>=4.4 in c:\\users\\mtapi\\onedrive\\documents\\brown\\cs1430\\cs1430_env\\lib\\site-packages (from markdown>=2.6.8->tensorboard~=2.4->tensorflow-gpu==2.4.0) (4.10.1)\n",
      "Requirement already satisfied: certifi>=2017.4.17 in c:\\users\\mtapi\\onedrive\\documents\\brown\\cs1430\\cs1430_env\\lib\\site-packages (from requests<3,>=2.21.0->tensorboard~=2.4->tensorflow-gpu==2.4.0) (2021.10.8)\n",
      "Requirement already satisfied: idna<4,>=2.5 in c:\\users\\mtapi\\onedrive\\documents\\brown\\cs1430\\cs1430_env\\lib\\site-packages (from requests<3,>=2.21.0->tensorboard~=2.4->tensorflow-gpu==2.4.0) (3.3)\n",
      "Requirement already satisfied: charset-normalizer~=2.0.0 in c:\\users\\mtapi\\onedrive\\documents\\brown\\cs1430\\cs1430_env\\lib\\site-packages (from requests<3,>=2.21.0->tensorboard~=2.4->tensorflow-gpu==2.4.0) (2.0.11)\n",
      "Requirement already satisfied: urllib3<1.27,>=1.21.1 in c:\\users\\mtapi\\onedrive\\documents\\brown\\cs1430\\cs1430_env\\lib\\site-packages (from requests<3,>=2.21.0->tensorboard~=2.4->tensorflow-gpu==2.4.0) (1.26.8)\n",
      "Requirement already satisfied: zipp>=0.5 in c:\\users\\mtapi\\onedrive\\documents\\brown\\cs1430\\cs1430_env\\lib\\site-packages (from importlib-metadata>=4.4->markdown>=2.6.8->tensorboard~=2.4->tensorflow-gpu==2.4.0) (3.7.0)\n",
      "Requirement already satisfied: pyasn1<0.5.0,>=0.4.6 in c:\\users\\mtapi\\onedrive\\documents\\brown\\cs1430\\cs1430_env\\lib\\site-packages (from pyasn1-modules>=0.2.1->google-auth<3,>=1.6.3->tensorboard~=2.4->tensorflow-gpu==2.4.0) (0.4.8)\n",
      "Requirement already satisfied: oauthlib>=3.0.0 in c:\\users\\mtapi\\onedrive\\documents\\brown\\cs1430\\cs1430_env\\lib\\site-packages (from requests-oauthlib>=0.7.0->google-auth-oauthlib<0.5,>=0.4.1->tensorboard~=2.4->tensorflow-gpu==2.4.0) (3.1.1)\n",
      "Installing collected packages: tensorflow-gpu\n",
      "Successfully installed tensorflow-gpu-2.4.0\n"
     ]
    }
   ],
   "source": [
    "!pip install tensorflow-gpu==2.4.0"
   ]
  },
  {
   "cell_type": "code",
   "execution_count": null,
   "metadata": {},
   "outputs": [],
   "source": [
    "#Step 3 — Initiate your detection model training\n",
    "## To ensure that our trained custom models have better detection accuracy, we will be using transfer learning from a pre-trained YOLOv3 model in the training. ImageAI provides the option to train with and without transfer learning. I will strongly recommend you use transfer learning except you have thousands of object samples in your dataset.\n",
    "### Download the pre-trained YOLOv3 model \n",
    "#### MAKE SURE NOTE TO save in repo because you will have issues!!!!\n",
    "\n",
    "#!wget https://github.com/OlafenwaMoses/ImageAI/releases/download/essential-v4/pretrained-yolov3.h5\n",
    "\n",
    "#this gives me an error becaue I dont have wget in my PATH correctly config'd, so I did this download manually"
   ]
  },
  {
   "cell_type": "code",
   "execution_count": 1,
   "metadata": {},
   "outputs": [],
   "source": [
    "import tensorflow as tf\n",
    "from imageai.Detection.Custom import DetectionModelTrainer"
   ]
  },
  {
   "cell_type": "code",
   "execution_count": 2,
   "metadata": {},
   "outputs": [
    {
     "name": "stdout",
     "output_type": "stream",
     "text": [
      "[name: \"/device:CPU:0\"\n",
      "device_type: \"CPU\"\n",
      "memory_limit: 268435456\n",
      "locality {\n",
      "}\n",
      "incarnation: 9131568622263150746\n",
      ", name: \"/device:GPU:0\"\n",
      "device_type: \"GPU\"\n",
      "memory_limit: 6916632736\n",
      "locality {\n",
      "  bus_id: 1\n",
      "  links {\n",
      "  }\n",
      "}\n",
      "incarnation: 15557848481251077441\n",
      "physical_device_desc: \"device: 0, name: NVIDIA GeForce RTX 2080 Super with Max-Q Design, pci bus id: 0000:01:00.0, compute capability: 7.5\"\n",
      "]\n"
     ]
    }
   ],
   "source": [
    "from tensorflow.python.client import device_lib \n",
    "print(device_lib.list_local_devices())"
   ]
  },
  {
   "cell_type": "code",
   "execution_count": 3,
   "metadata": {},
   "outputs": [
    {
     "name": "stdout",
     "output_type": "stream",
     "text": [
      "Num GPUs Available:  1\n"
     ]
    }
   ],
   "source": [
    "print(\"Num GPUs Available: \", \n",
    "len(tf.config.experimental.list_physical_devices('GPU')))"
   ]
  },
  {
   "cell_type": "code",
   "execution_count": 25,
   "metadata": {},
   "outputs": [
    {
     "name": "stdout",
     "output_type": "stream",
     "text": [
      "/job:localhost/replica:0/task:0/device:GPU:0\n"
     ]
    }
   ],
   "source": [
    "with tf.device('/device:GPU:0'):\n",
    "    b = tf.constant([1, 2, 3])\n",
    "    c = tf.maximum(b, b)\n",
    "    print(c.device)  "
   ]
  },
  {
   "cell_type": "code",
   "execution_count": null,
   "metadata": {},
   "outputs": [],
   "source": [
    "#main_dir = \"..\\data\"\n",
    "data_directory = '..\\data'\n",
    "object_names_array = \"Frisbee\"\n",
    "train_from_pretrained_model = \"..\\data\\models\\detection_model-ex-005--loss-0012.967.h5\" #this is unique to you because it cannot be on the repo!!"
   ]
  },
  {
   "cell_type": "code",
   "execution_count": 27,
   "metadata": {},
   "outputs": [
    {
     "name": "stdout",
     "output_type": "stream",
     "text": [
      "Generating anchor boxes for training images and annotation...\n",
      "Average IOU for 9 anchors: 0.89\n",
      "Anchor Boxes generated.\n",
      "Detection configuration saved in  ..\\data\\json\\detection_config.json\n",
      "Evaluating over 136 samples taken from ..\\data\\validation\n",
      "Training over 236 samples  given at ..\\data\\train\n",
      "Training on: \t['Frisbee']\n",
      "Training with Batch Size:  4\n",
      "Number of Training Samples:  236\n",
      "Number of Validation Samples:  136\n",
      "Number of Experiments:  10\n",
      "Training with transfer learning from pretrained Model\n",
      "WARNING:tensorflow:`period` argument is deprecated. Please use `save_freq` to specify the frequency in number of batches seen.\n",
      "WARNING:tensorflow:`epsilon` argument is deprecated and will be removed, use `min_delta` instead.\n",
      "instance: {'object': [{'name': 'Frisbee', 'xmin': 1572, 'ymin': 780, 'xmax': 1625, 'ymax': 809}], 'filename': '..\\\\data\\\\train\\\\images\\\\10mvid4_3.jpg', 'width': 1920, 'height': 1080}\n",
      "instance: {'object': [{'name': 'Frisbee', 'xmin': 1300, 'ymin': 776, 'xmax': 1342, 'ymax': 795}], 'filename': '..\\\\data\\\\train\\\\images\\\\10mvid12_5.jpg', 'width': 1920, 'height': 1080}\n",
      "instance: {'object': [{'name': 'Frisbee', 'xmin': 1304, 'ymin': 776, 'xmax': 1377, 'ymax': 808}], 'filename': '..\\\\data\\\\train\\\\images\\\\a_mgvid1_14.jpg', 'width': 1920, 'height': 1080}\n",
      "instance: {'object': [{'name': 'Frisbee', 'xmin': 1638, 'ymin': 652, 'xmax': 1691, 'ymax': 671}], 'filename': '..\\\\data\\\\train\\\\images\\\\10mvid13_21.jpg', 'width': 1920, 'height': 1080}\n"
     ]
    },
    {
     "name": "stderr",
     "output_type": "stream",
     "text": [
      "c:\\Users\\mtapi\\OneDrive\\Documents\\Brown\\cs1430\\cs1430_env\\lib\\site-packages\\tensorflow\\python\\keras\\engine\\training.py:1844: UserWarning: `Model.fit_generator` is deprecated and will be removed in a future version. Please use `Model.fit`, which supports generators.\n",
      "  warnings.warn('`Model.fit_generator` is deprecated and '\n",
      "c:\\Users\\mtapi\\OneDrive\\Documents\\Brown\\cs1430\\cs1430_env\\lib\\site-packages\\tensorflow\\python\\data\\ops\\dataset_ops.py:3503: UserWarning: Even though the tf.config.experimental_run_functions_eagerly option is set, this option does not apply to tf.data functions. tf.data functions are still traced and executed as graphs.\n",
      "  warnings.warn(\n"
     ]
    },
    {
     "name": "stdout",
     "output_type": "stream",
     "text": [
      "WARNING:tensorflow:Model failed to serialize as JSON. Ignoring... Layer YoloLayer has arguments in `__init__` and therefore must override `get_config`.\n",
      "Epoch 1/10\n",
      "instance: {'object': [{'name': 'Frisbee', 'xmin': 987, 'ymin': 836, 'xmax': 1031, 'ymax': 853}], 'filename': '..\\\\data\\\\train\\\\images\\\\10mvid10_11.jpg', 'width': 1920, 'height': 1080}instance: {'object': [{'name': 'Frisbee', 'xmin': 1521, 'ymin': 670, 'xmax': 1568, 'ymax': 701}], 'filename': '..\\\\data\\\\train\\\\images\\\\10mvid1_22.jpg', 'width': 1920, 'height': 1080}instance: {'object': [{'name': 'Frisbee', 'xmin': 571, 'ymin': 771, 'xmax': 614, 'ymax': 798}], 'filename': '..\\\\data\\\\train\\\\images\\\\10mvid2_17.jpg', 'width': 1920, 'height': 1080}\n",
      "\n",
      "instance: {'object': [{'name': 'Frisbee', 'xmin': 1397, 'ymin': 780, 'xmax': 1444, 'ymax': 797}], 'filename': '..\\\\data\\\\train\\\\images\\\\10mvid12_3.jpg', 'width': 1920, 'height': 1080}\n",
      "\n",
      "instance: {'object': [{'name': 'Frisbee', 'xmin': 526, 'ymin': 819, 'xmax': 569, 'ymax': 839}], 'filename': '..\\\\data\\\\train\\\\images\\\\10mvid12_17.jpg', 'width': 1920, 'height': 1080}\n",
      "instance: {'object': [{'name': 'Frisbee', 'xmin': 1530, 'ymin': 779, 'xmax': 1578, 'ymax': 800}], 'filename': '..\\\\data\\\\train\\\\images\\\\10mvid3_20.jpg', 'width': 1920, 'height': 1080}\n",
      "instance: {'object': [{'name': 'Frisbee', 'xmin': 779, 'ymin': 738, 'xmax': 818, 'ymax': 765}], 'filename': '..\\\\data\\\\train\\\\images\\\\10mvid2_13.jpg', 'width': 1920, 'height': 1080}\n",
      "instance: {'object': [{'name': 'Frisbee', 'xmin': 1411, 'ymin': 671, 'xmax': 1462, 'ymax': 692}], 'filename': '..\\\\data\\\\train\\\\images\\\\10mvid1_19.jpg', 'width': 1920, 'height': 1080}\n",
      "instance: {'object': [{'name': 'Frisbee', 'xmin': 418, 'ymin': 800, 'xmax': 464, 'ymax': 832}], 'filename': '..\\\\data\\\\train\\\\images\\\\10mvid4_25.jpg', 'width': 1920, 'height': 1080}\n",
      "instance: {'object': [{'name': 'Frisbee', 'xmin': 1337, 'ymin': 723, 'xmax': 1383, 'ymax': 753}], 'filename': '..\\\\data\\\\train\\\\images\\\\10mvid2_4.jpg', 'width': 1920, 'height': 1080}\n",
      "instance: {'object': [{'name': 'Frisbee', 'xmin': 325, 'ymin': 715, 'xmax': 394, 'ymax': 746}], 'filename': '..\\\\data\\\\train\\\\images\\\\a_mgvid1_2.jpg', 'width': 1920, 'height': 1080}\n",
      "instance: {'object': [{'name': 'Frisbee', 'xmin': 1281, 'ymin': 840, 'xmax': 1328, 'ymax': 857}], 'filename': '..\\\\data\\\\train\\\\images\\\\10mvid10_17.jpg', 'width': 1920, 'height': 1080}\n",
      "instance: {'object': [{'name': 'Frisbee', 'xmin': 626, 'ymin': 643, 'xmax': 688, 'ymax': 671}], 'filename': '..\\\\data\\\\train\\\\images\\\\a_mgvid10_12.jpg', 'width': 1920, 'height': 1080}\n",
      "instance: {'object': [{'name': 'Frisbee', 'xmin': 1378, 'ymin': 775, 'xmax': 1426, 'ymax': 799}], 'filename': '..\\\\data\\\\train\\\\images\\\\10mvid4_6.jpg', 'width': 1920, 'height': 1080}\n",
      "instance: {'object': [{'name': 'Frisbee', 'xmin': 1441, 'ymin': 666, 'xmax': 1490, 'ymax': 692}], 'filename': '..\\\\data\\\\train\\\\images\\\\10mvid1_20.jpg', 'width': 1920, 'height': 1080}\n",
      "instance: {'object': [{'name': 'Frisbee', 'xmin': 1665, 'ymin': 749, 'xmax': 1718, 'ymax': 783}], 'filename': '..\\\\data\\\\train\\\\images\\\\10mvid3_24.jpg', 'width': 1920, 'height': 1080}\n",
      "instance: {'object': [{'name': 'Frisbee', 'xmin': 1253, 'ymin': 868, 'xmax': 1294, 'ymax': 884}], 'filename': '..\\\\data\\\\train\\\\images\\\\10mvid11_14.jpg', 'width': 1920, 'height': 1080}\n",
      "instance: {'object': [{'name': 'Frisbee', 'xmin': 481, 'ymin': 854, 'xmax': 527, 'ymax': 876}], 'filename': '..\\\\data\\\\train\\\\images\\\\10mvid11_1.jpg', 'width': 1920, 'height': 1080}\n",
      "instance: {'object': [{'name': 'Frisbee', 'xmin': 679, 'ymin': 729, 'xmax': 745, 'ymax': 749}], 'filename': '..\\\\data\\\\train\\\\images\\\\a_mgvid1_7.jpg', 'width': 1920, 'height': 1080}\n",
      "instance: {'object': [{'name': 'Frisbee', 'xmin': 1125, 'ymin': 713, 'xmax': 1174, 'ymax': 737}], 'filename': '..\\\\data\\\\train\\\\images\\\\10mvid13_10.jpg', 'width': 1920, 'height': 1080}\n",
      "instance: {'object': [{'name': 'Frisbee', 'xmin': 1561, 'ymin': 769, 'xmax': 1609, 'ymax': 797}], 'filename': '..\\\\data\\\\train\\\\images\\\\10mvid3_21.jpg', 'width': 1920, 'height': 1080}\n",
      "instance: {'object': [{'name': 'Frisbee', 'xmin': 1590, 'ymin': 683, 'xmax': 1639, 'ymax': 704}], 'filename': '..\\\\data\\\\train\\\\images\\\\10mvid1_24.jpg', 'width': 1920, 'height': 1080}\n",
      "instance: {'object': [{'name': 'Frisbee', 'xmin': 1057, 'ymin': 781, 'xmax': 1099, 'ymax': 804}], 'filename': '..\\\\data\\\\train\\\\images\\\\10mvid12_9.jpg', 'width': 1920, 'height': 1080}\n",
      "instance: {'object': [{'name': 'Frisbee', 'xmin': 1202, 'ymin': 777, 'xmax': 1247, 'ymax': 795}], 'filename': '..\\\\data\\\\train\\\\images\\\\10mvid12_6.jpg', 'width': 1920, 'height': 1080}\n",
      "instance: {'object': [{'name': 'Frisbee', 'xmin': 914, 'ymin': 794, 'xmax': 954, 'ymax': 814}], 'filename': '..\\\\data\\\\train\\\\images\\\\10mvid12_11.jpg', 'width': 1920, 'height': 1080}\n",
      "instance: {'object': [{'name': 'Frisbee', 'xmin': 932, 'ymin': 639, 'xmax': 996, 'ymax': 667}], 'filename': '..\\\\data\\\\train\\\\images\\\\a_mgvid10_7.jpg', 'width': 1920, 'height': 1080}\n",
      "instance: {'object': [{'name': 'Frisbee', 'xmin': 1821, 'ymin': 865, 'xmax': 1870, 'ymax': 897}], 'filename': '..\\\\data\\\\train\\\\images\\\\10mvid10_30.jpg', 'width': 1920, 'height': 1080}\n",
      "instance: {'object': [{'name': 'Frisbee', 'xmin': 912, 'ymin': 829, 'xmax': 956, 'ymax': 850}], 'filename': '..\\\\data\\\\train\\\\images\\\\10mvid3_7.jpg', 'width': 1920, 'height': 1080}\n",
      "instance: {'object': [{'name': 'Frisbee', 'xmin': 1711, 'ymin': 743, 'xmax': 1757, 'ymax': 774}], 'filename': '..\\\\data\\\\train\\\\images\\\\10mvid3_26.jpg', 'width': 1920, 'height': 1080}\n",
      "instance: {'object': [{'name': 'Frisbee', 'xmin': 1842, 'ymin': 869, 'xmax': 1894, 'ymax': 902}], 'filename': '..\\\\data\\\\train\\\\images\\\\10mvid10_31.jpg', 'width': 1920, 'height': 1080}\n",
      "instance: {'object': [{'name': 'Frisbee', 'xmin': 960, 'ymin': 754, 'xmax': 1012, 'ymax': 778}], 'filename': '..\\\\data\\\\train\\\\images\\\\10mvid13_7.jpg', 'width': 1920, 'height': 1080}\n",
      "instance: {'object': [{'name': 'Frisbee', 'xmin': 914, 'ymin': 764, 'xmax': 963, 'ymax': 787}], 'filename': '..\\\\data\\\\train\\\\images\\\\10mvid13_6.jpg', 'width': 1920, 'height': 1080}\n",
      "instance: {'object': [{'name': 'Frisbee', 'xmin': 642, 'ymin': 847, 'xmax': 686, 'ymax': 866}], 'filename': '..\\\\data\\\\train\\\\images\\\\10mvid11_3.jpg', 'width': 1920, 'height': 1080}\n",
      "instance: {'object': [{'name': 'Frisbee', 'xmin': 1608, 'ymin': 649, 'xmax': 1664, 'ymax': 676}], 'filename': '..\\\\data\\\\train\\\\images\\\\10mvid13_20.jpg', 'width': 1920, 'height': 1080}\n",
      "instance: {'object': [{'name': 'Frisbee', 'xmin': 1035, 'ymin': 716, 'xmax': 1080, 'ymax': 735}], 'filename': '..\\\\data\\\\train\\\\images\\\\10mvid2_9.jpg', 'width': 1920, 'height': 1080}\n",
      "instance: {'object': [{'name': 'Frisbee', 'xmin': 1251, 'ymin': 720, 'xmax': 1292, 'ymax': 740}], 'filename': '..\\\\data\\\\train\\\\images\\\\10mvid2_5.jpg', 'width': 1920, 'height': 1080}\n",
      "instance: {'object': [{'name': 'Frisbee', 'xmin': 1198, 'ymin': 695, 'xmax': 1250, 'ymax': 717}], 'filename': '..\\\\data\\\\train\\\\images\\\\10mvid1_14.jpg', 'width': 1920, 'height': 1080}\n",
      "instance: {'object': [{'name': 'Frisbee', 'xmin': 1652, 'ymin': 688, 'xmax': 1703, 'ymax': 714}], 'filename': '..\\\\data\\\\train\\\\images\\\\10mvid1_27.jpg', 'width': 1920, 'height': 1080}\n",
      "instance: {'object': [{'name': 'Frisbee', 'xmin': 670, 'ymin': 813, 'xmax': 711, 'ymax': 832}], 'filename': '..\\\\data\\\\train\\\\images\\\\10mvid12_15.jpg', 'width': 1920, 'height': 1080}\n",
      "instance: {'object': [{'name': 'Frisbee', 'xmin': 531, 'ymin': 837, 'xmax': 574, 'ymax': 853}], 'filename': '..\\\\data\\\\train\\\\images\\\\10mvid10_2.jpg', 'width': 1920, 'height': 1080}\n"
     ]
    },
    {
     "ename": "",
     "evalue": "",
     "output_type": "error",
     "traceback": [
      "\u001b[1;31mCanceled future for execute_request message before replies were done"
     ]
    },
    {
     "ename": "",
     "evalue": "",
     "output_type": "error",
     "traceback": [
      "\u001b[1;31mThe Kernel crashed while executing code in the the current cell or a previous cell. Please review the code in the cell(s) to identify a possible cause of the failure. Click <a href='https://aka.ms/vscodeJupyterKernelCrash'>here</a> for more info. View Jupyter <a href='command:jupyter.viewOutput'>log</a> for further details."
     ]
    }
   ],
   "source": [
    "trainer = DetectionModelTrainer()\n",
    "trainer.setModelTypeAsYOLOv3()\n",
    "trainer.setDataDirectory(data_directory=data_directory)\n",
    "trainer.setTrainConfig(object_names_array=[object_names_array], batch_size=4, num_experiments=10, train_from_pretrained_model=train_from_pretrained_model)\n",
    "trainer.trainModel()"
   ]
  },
  {
   "cell_type": "code",
   "execution_count": null,
   "metadata": {},
   "outputs": [
    {
     "name": "stdout",
     "output_type": "stream",
     "text": [
      "Starting Model evaluation....\n",
      "Evaluating over 3 samples taken as 20.00% of the training set given at C:/Users/mtapi/OneDrive/Documents/Brown/cs1430/cv_final_proj/data\\train\n",
      "Training over 13 samples  given at C:/Users/mtapi/OneDrive/Documents/Brown/cs1430/cv_final_proj/data\\train\n",
      "WARNING:tensorflow:No training configuration found in the save file, so the model was *not* compiled. Compile it manually.\n",
      "Model File:  C:/Users/mtapi/OneDrive/Documents/Brown/cs1430/cv_final_proj/data/models\\detection_model-ex-001--loss-0110.047.h5 \n",
      "\n",
      "Evaluation samples:  3\n",
      "Using IoU:  0.5\n",
      "Using Object Threshold:  0.3\n",
      "Using Non-Maximum Suppression:  0.5\n",
      "frisbee: 0.0000\n",
      "mAP: 0.0000\n",
      "===============================\n",
      "WARNING:tensorflow:No training configuration found in the save file, so the model was *not* compiled. Compile it manually.\n",
      "Model File:  C:/Users/mtapi/OneDrive/Documents/Brown/cs1430/cv_final_proj/data/models\\detection_model-ex-002--loss-0065.645.h5 \n",
      "\n",
      "Evaluation samples:  3\n",
      "Using IoU:  0.5\n",
      "Using Object Threshold:  0.3\n",
      "Using Non-Maximum Suppression:  0.5\n",
      "frisbee: 0.0000\n",
      "mAP: 0.0000\n",
      "===============================\n",
      "WARNING:tensorflow:No training configuration found in the save file, so the model was *not* compiled. Compile it manually.\n",
      "Model File:  C:/Users/mtapi/OneDrive/Documents/Brown/cs1430/cv_final_proj/data/models\\detection_model-ex-003--loss-0045.187.h5 \n",
      "\n",
      "Evaluation samples:  3\n",
      "Using IoU:  0.5\n",
      "Using Object Threshold:  0.3\n",
      "Using Non-Maximum Suppression:  0.5\n",
      "frisbee: 0.0000\n",
      "mAP: 0.0000\n",
      "===============================\n",
      "WARNING:tensorflow:No training configuration found in the save file, so the model was *not* compiled. Compile it manually.\n",
      "Model File:  C:/Users/mtapi/OneDrive/Documents/Brown/cs1430/cv_final_proj/data/models\\detection_model-ex-004--loss-0037.427.h5 \n",
      "\n",
      "Evaluation samples:  3\n",
      "Using IoU:  0.5\n",
      "Using Object Threshold:  0.3\n",
      "Using Non-Maximum Suppression:  0.5\n",
      "frisbee: 0.0000\n",
      "mAP: 0.0000\n",
      "===============================\n",
      "WARNING:tensorflow:No training configuration found in the save file, so the model was *not* compiled. Compile it manually.\n",
      "Model File:  C:/Users/mtapi/OneDrive/Documents/Brown/cs1430/cv_final_proj/data/models\\detection_model-ex-005--loss-0034.955.h5 \n",
      "\n",
      "Evaluation samples:  3\n",
      "Using IoU:  0.5\n",
      "Using Object Threshold:  0.3\n",
      "Using Non-Maximum Suppression:  0.5\n",
      "frisbee: 0.0000\n",
      "mAP: 0.0000\n",
      "===============================\n",
      "WARNING:tensorflow:No training configuration found in the save file, so the model was *not* compiled. Compile it manually.\n",
      "Model File:  C:/Users/mtapi/OneDrive/Documents/Brown/cs1430/cv_final_proj/data/models\\detection_model-ex-006--loss-0029.310.h5 \n",
      "\n",
      "Evaluation samples:  3\n",
      "Using IoU:  0.5\n",
      "Using Object Threshold:  0.3\n",
      "Using Non-Maximum Suppression:  0.5\n",
      "frisbee: 0.0000\n",
      "mAP: 0.0000\n",
      "===============================\n",
      "WARNING:tensorflow:No training configuration found in the save file, so the model was *not* compiled. Compile it manually.\n",
      "Model File:  C:/Users/mtapi/OneDrive/Documents/Brown/cs1430/cv_final_proj/data/models\\detection_model-ex-007--loss-0027.677.h5 \n",
      "\n",
      "Evaluation samples:  3\n",
      "Using IoU:  0.5\n",
      "Using Object Threshold:  0.3\n",
      "Using Non-Maximum Suppression:  0.5\n",
      "frisbee: 0.0000\n",
      "mAP: 0.0000\n",
      "===============================\n",
      "WARNING:tensorflow:No training configuration found in the save file, so the model was *not* compiled. Compile it manually.\n",
      "Model File:  C:/Users/mtapi/OneDrive/Documents/Brown/cs1430/cv_final_proj/data/models\\detection_model-ex-008--loss-0024.004.h5 \n",
      "\n",
      "Evaluation samples:  3\n",
      "Using IoU:  0.5\n",
      "Using Object Threshold:  0.3\n",
      "Using Non-Maximum Suppression:  0.5\n",
      "frisbee: 0.0000\n",
      "mAP: 0.0000\n",
      "===============================\n",
      "WARNING:tensorflow:No training configuration found in the save file, so the model was *not* compiled. Compile it manually.\n",
      "Model File:  C:/Users/mtapi/OneDrive/Documents/Brown/cs1430/cv_final_proj/data/models\\detection_model-ex-009--loss-0023.079.h5 \n",
      "\n",
      "Evaluation samples:  3\n",
      "Using IoU:  0.5\n",
      "Using Object Threshold:  0.3\n",
      "Using Non-Maximum Suppression:  0.5\n",
      "frisbee: 0.0000\n",
      "mAP: 0.0000\n",
      "===============================\n",
      "WARNING:tensorflow:No training configuration found in the save file, so the model was *not* compiled. Compile it manually.\n",
      "Model File:  C:/Users/mtapi/OneDrive/Documents/Brown/cs1430/cv_final_proj/data/models\\detection_model-ex-010--loss-0020.816.h5 \n",
      "\n",
      "Evaluation samples:  3\n",
      "Using IoU:  0.5\n",
      "Using Object Threshold:  0.3\n",
      "Using Non-Maximum Suppression:  0.5\n",
      "frisbee: 0.0000\n",
      "mAP: 0.0000\n",
      "===============================\n",
      "WARNING:tensorflow:No training configuration found in the save file, so the model was *not* compiled. Compile it manually.\n",
      "Model File:  C:/Users/mtapi/OneDrive/Documents/Brown/cs1430/cv_final_proj/data/models\\detection_model-ex-012--loss-0019.632.h5 \n",
      "\n",
      "Evaluation samples:  3\n",
      "Using IoU:  0.5\n",
      "Using Object Threshold:  0.3\n",
      "Using Non-Maximum Suppression:  0.5\n",
      "frisbee: 0.0000\n",
      "mAP: 0.0000\n",
      "===============================\n",
      "WARNING:tensorflow:No training configuration found in the save file, so the model was *not* compiled. Compile it manually.\n",
      "Model File:  C:/Users/mtapi/OneDrive/Documents/Brown/cs1430/cv_final_proj/data/models\\detection_model-ex-013--loss-0019.367.h5 \n",
      "\n",
      "Evaluation samples:  3\n",
      "Using IoU:  0.5\n",
      "Using Object Threshold:  0.3\n",
      "Using Non-Maximum Suppression:  0.5\n",
      "frisbee: 0.0000\n",
      "mAP: 0.0000\n",
      "===============================\n",
      "WARNING:tensorflow:No training configuration found in the save file, so the model was *not* compiled. Compile it manually.\n",
      "Model File:  C:/Users/mtapi/OneDrive/Documents/Brown/cs1430/cv_final_proj/data/models\\detection_model-ex-015--loss-0017.678.h5 \n",
      "\n",
      "Evaluation samples:  3\n",
      "Using IoU:  0.5\n",
      "Using Object Threshold:  0.3\n",
      "Using Non-Maximum Suppression:  0.5\n",
      "frisbee: 0.3333\n",
      "mAP: 0.3333\n",
      "===============================\n",
      "WARNING:tensorflow:No training configuration found in the save file, so the model was *not* compiled. Compile it manually.\n",
      "Model File:  C:/Users/mtapi/OneDrive/Documents/Brown/cs1430/cv_final_proj/data/models\\detection_model-ex-016--loss-0017.346.h5 \n",
      "\n",
      "Evaluation samples:  3\n",
      "Using IoU:  0.5\n",
      "Using Object Threshold:  0.3\n",
      "Using Non-Maximum Suppression:  0.5\n",
      "frisbee: 0.3333\n",
      "mAP: 0.3333\n",
      "===============================\n",
      "WARNING:tensorflow:No training configuration found in the save file, so the model was *not* compiled. Compile it manually.\n",
      "Model File:  C:/Users/mtapi/OneDrive/Documents/Brown/cs1430/cv_final_proj/data/models\\detection_model-ex-019--loss-0017.000.h5 \n",
      "\n",
      "Evaluation samples:  3\n",
      "Using IoU:  0.5\n",
      "Using Object Threshold:  0.3\n",
      "Using Non-Maximum Suppression:  0.5\n",
      "frisbee: 0.0476\n",
      "mAP: 0.0476\n",
      "===============================\n",
      "WARNING:tensorflow:No training configuration found in the save file, so the model was *not* compiled. Compile it manually.\n",
      "Model File:  C:/Users/mtapi/OneDrive/Documents/Brown/cs1430/cv_final_proj/data/models\\detection_model-ex-020--loss-0015.770.h5 \n",
      "\n",
      "Evaluation samples:  3\n",
      "Using IoU:  0.5\n",
      "Using Object Threshold:  0.3\n",
      "Using Non-Maximum Suppression:  0.5\n",
      "frisbee: 0.3333\n",
      "mAP: 0.3333\n",
      "===============================\n",
      "WARNING:tensorflow:No training configuration found in the save file, so the model was *not* compiled. Compile it manually.\n",
      "Model File:  C:/Users/mtapi/OneDrive/Documents/Brown/cs1430/cv_final_proj/data/models\\detection_model-ex-024--loss-0015.397.h5 \n",
      "\n",
      "Evaluation samples:  3\n",
      "Using IoU:  0.5\n",
      "Using Object Threshold:  0.3\n",
      "Using Non-Maximum Suppression:  0.5\n",
      "frisbee: 0.3333\n",
      "mAP: 0.3333\n",
      "===============================\n",
      "WARNING:tensorflow:No training configuration found in the save file, so the model was *not* compiled. Compile it manually.\n",
      "Model File:  C:/Users/mtapi/OneDrive/Documents/Brown/cs1430/cv_final_proj/data/models\\detection_model-ex-041--loss-0015.302.h5 \n",
      "\n",
      "Evaluation samples:  3\n",
      "Using IoU:  0.5\n",
      "Using Object Threshold:  0.3\n",
      "Using Non-Maximum Suppression:  0.5\n",
      "frisbee: 0.3333\n",
      "mAP: 0.3333\n",
      "===============================\n",
      "WARNING:tensorflow:No training configuration found in the save file, so the model was *not* compiled. Compile it manually.\n",
      "Model File:  C:/Users/mtapi/OneDrive/Documents/Brown/cs1430/cv_final_proj/data/models\\detection_model-ex-066--loss-0014.768.h5 \n",
      "\n",
      "Evaluation samples:  3\n",
      "Using IoU:  0.5\n",
      "Using Object Threshold:  0.3\n",
      "Using Non-Maximum Suppression:  0.5\n",
      "frisbee: 0.3333\n",
      "mAP: 0.3333\n",
      "===============================\n"
     ]
    },
    {
     "data": {
      "text/plain": [
       "[{'model_file': 'C:/Users/mtapi/OneDrive/Documents/Brown/cs1430/cv_final_proj/data/models\\\\detection_model-ex-001--loss-0110.047.h5',\n",
       "  'using_iou': 0.5,\n",
       "  'using_object_threshold': 0.3,\n",
       "  'using_non_maximum_suppression': 0.5,\n",
       "  'average_precision': {'frisbee': 0.0},\n",
       "  'evaluation_samples': 3,\n",
       "  'map': 0.0},\n",
       " {'model_file': 'C:/Users/mtapi/OneDrive/Documents/Brown/cs1430/cv_final_proj/data/models\\\\detection_model-ex-002--loss-0065.645.h5',\n",
       "  'using_iou': 0.5,\n",
       "  'using_object_threshold': 0.3,\n",
       "  'using_non_maximum_suppression': 0.5,\n",
       "  'average_precision': {'frisbee': 0.0},\n",
       "  'evaluation_samples': 3,\n",
       "  'map': 0.0},\n",
       " {'model_file': 'C:/Users/mtapi/OneDrive/Documents/Brown/cs1430/cv_final_proj/data/models\\\\detection_model-ex-003--loss-0045.187.h5',\n",
       "  'using_iou': 0.5,\n",
       "  'using_object_threshold': 0.3,\n",
       "  'using_non_maximum_suppression': 0.5,\n",
       "  'average_precision': {'frisbee': 0.0},\n",
       "  'evaluation_samples': 3,\n",
       "  'map': 0.0},\n",
       " {'model_file': 'C:/Users/mtapi/OneDrive/Documents/Brown/cs1430/cv_final_proj/data/models\\\\detection_model-ex-004--loss-0037.427.h5',\n",
       "  'using_iou': 0.5,\n",
       "  'using_object_threshold': 0.3,\n",
       "  'using_non_maximum_suppression': 0.5,\n",
       "  'average_precision': {'frisbee': 0.0},\n",
       "  'evaluation_samples': 3,\n",
       "  'map': 0.0},\n",
       " {'model_file': 'C:/Users/mtapi/OneDrive/Documents/Brown/cs1430/cv_final_proj/data/models\\\\detection_model-ex-005--loss-0034.955.h5',\n",
       "  'using_iou': 0.5,\n",
       "  'using_object_threshold': 0.3,\n",
       "  'using_non_maximum_suppression': 0.5,\n",
       "  'average_precision': {'frisbee': 0.0},\n",
       "  'evaluation_samples': 3,\n",
       "  'map': 0.0},\n",
       " {'model_file': 'C:/Users/mtapi/OneDrive/Documents/Brown/cs1430/cv_final_proj/data/models\\\\detection_model-ex-006--loss-0029.310.h5',\n",
       "  'using_iou': 0.5,\n",
       "  'using_object_threshold': 0.3,\n",
       "  'using_non_maximum_suppression': 0.5,\n",
       "  'average_precision': {'frisbee': 0.0},\n",
       "  'evaluation_samples': 3,\n",
       "  'map': 0.0},\n",
       " {'model_file': 'C:/Users/mtapi/OneDrive/Documents/Brown/cs1430/cv_final_proj/data/models\\\\detection_model-ex-007--loss-0027.677.h5',\n",
       "  'using_iou': 0.5,\n",
       "  'using_object_threshold': 0.3,\n",
       "  'using_non_maximum_suppression': 0.5,\n",
       "  'average_precision': {'frisbee': 0.0},\n",
       "  'evaluation_samples': 3,\n",
       "  'map': 0.0},\n",
       " {'model_file': 'C:/Users/mtapi/OneDrive/Documents/Brown/cs1430/cv_final_proj/data/models\\\\detection_model-ex-008--loss-0024.004.h5',\n",
       "  'using_iou': 0.5,\n",
       "  'using_object_threshold': 0.3,\n",
       "  'using_non_maximum_suppression': 0.5,\n",
       "  'average_precision': {'frisbee': 0.0},\n",
       "  'evaluation_samples': 3,\n",
       "  'map': 0.0},\n",
       " {'model_file': 'C:/Users/mtapi/OneDrive/Documents/Brown/cs1430/cv_final_proj/data/models\\\\detection_model-ex-009--loss-0023.079.h5',\n",
       "  'using_iou': 0.5,\n",
       "  'using_object_threshold': 0.3,\n",
       "  'using_non_maximum_suppression': 0.5,\n",
       "  'average_precision': {'frisbee': 0.0},\n",
       "  'evaluation_samples': 3,\n",
       "  'map': 0.0},\n",
       " {'model_file': 'C:/Users/mtapi/OneDrive/Documents/Brown/cs1430/cv_final_proj/data/models\\\\detection_model-ex-010--loss-0020.816.h5',\n",
       "  'using_iou': 0.5,\n",
       "  'using_object_threshold': 0.3,\n",
       "  'using_non_maximum_suppression': 0.5,\n",
       "  'average_precision': {'frisbee': 0.0},\n",
       "  'evaluation_samples': 3,\n",
       "  'map': 0.0},\n",
       " {'model_file': 'C:/Users/mtapi/OneDrive/Documents/Brown/cs1430/cv_final_proj/data/models\\\\detection_model-ex-012--loss-0019.632.h5',\n",
       "  'using_iou': 0.5,\n",
       "  'using_object_threshold': 0.3,\n",
       "  'using_non_maximum_suppression': 0.5,\n",
       "  'average_precision': {'frisbee': 0.0},\n",
       "  'evaluation_samples': 3,\n",
       "  'map': 0.0},\n",
       " {'model_file': 'C:/Users/mtapi/OneDrive/Documents/Brown/cs1430/cv_final_proj/data/models\\\\detection_model-ex-013--loss-0019.367.h5',\n",
       "  'using_iou': 0.5,\n",
       "  'using_object_threshold': 0.3,\n",
       "  'using_non_maximum_suppression': 0.5,\n",
       "  'average_precision': {'frisbee': 0.0},\n",
       "  'evaluation_samples': 3,\n",
       "  'map': 0.0},\n",
       " {'model_file': 'C:/Users/mtapi/OneDrive/Documents/Brown/cs1430/cv_final_proj/data/models\\\\detection_model-ex-015--loss-0017.678.h5',\n",
       "  'using_iou': 0.5,\n",
       "  'using_object_threshold': 0.3,\n",
       "  'using_non_maximum_suppression': 0.5,\n",
       "  'average_precision': {'frisbee': 0.3333333333333333},\n",
       "  'evaluation_samples': 3,\n",
       "  'map': 0.3333333333333333},\n",
       " {'model_file': 'C:/Users/mtapi/OneDrive/Documents/Brown/cs1430/cv_final_proj/data/models\\\\detection_model-ex-016--loss-0017.346.h5',\n",
       "  'using_iou': 0.5,\n",
       "  'using_object_threshold': 0.3,\n",
       "  'using_non_maximum_suppression': 0.5,\n",
       "  'average_precision': {'frisbee': 0.3333333333333333},\n",
       "  'evaluation_samples': 3,\n",
       "  'map': 0.3333333333333333},\n",
       " {'model_file': 'C:/Users/mtapi/OneDrive/Documents/Brown/cs1430/cv_final_proj/data/models\\\\detection_model-ex-019--loss-0017.000.h5',\n",
       "  'using_iou': 0.5,\n",
       "  'using_object_threshold': 0.3,\n",
       "  'using_non_maximum_suppression': 0.5,\n",
       "  'average_precision': {'frisbee': 0.047619047619047616},\n",
       "  'evaluation_samples': 3,\n",
       "  'map': 0.047619047619047616},\n",
       " {'model_file': 'C:/Users/mtapi/OneDrive/Documents/Brown/cs1430/cv_final_proj/data/models\\\\detection_model-ex-020--loss-0015.770.h5',\n",
       "  'using_iou': 0.5,\n",
       "  'using_object_threshold': 0.3,\n",
       "  'using_non_maximum_suppression': 0.5,\n",
       "  'average_precision': {'frisbee': 0.3333333333333333},\n",
       "  'evaluation_samples': 3,\n",
       "  'map': 0.3333333333333333},\n",
       " {'model_file': 'C:/Users/mtapi/OneDrive/Documents/Brown/cs1430/cv_final_proj/data/models\\\\detection_model-ex-024--loss-0015.397.h5',\n",
       "  'using_iou': 0.5,\n",
       "  'using_object_threshold': 0.3,\n",
       "  'using_non_maximum_suppression': 0.5,\n",
       "  'average_precision': {'frisbee': 0.3333333333333333},\n",
       "  'evaluation_samples': 3,\n",
       "  'map': 0.3333333333333333},\n",
       " {'model_file': 'C:/Users/mtapi/OneDrive/Documents/Brown/cs1430/cv_final_proj/data/models\\\\detection_model-ex-041--loss-0015.302.h5',\n",
       "  'using_iou': 0.5,\n",
       "  'using_object_threshold': 0.3,\n",
       "  'using_non_maximum_suppression': 0.5,\n",
       "  'average_precision': {'frisbee': 0.3333333333333333},\n",
       "  'evaluation_samples': 3,\n",
       "  'map': 0.3333333333333333},\n",
       " {'model_file': 'C:/Users/mtapi/OneDrive/Documents/Brown/cs1430/cv_final_proj/data/models\\\\detection_model-ex-066--loss-0014.768.h5',\n",
       "  'using_iou': 0.5,\n",
       "  'using_object_threshold': 0.3,\n",
       "  'using_non_maximum_suppression': 0.5,\n",
       "  'average_precision': {'frisbee': 0.3333333333333333},\n",
       "  'evaluation_samples': 3,\n",
       "  'map': 0.3333333333333333}]"
      ]
     },
     "execution_count": 15,
     "metadata": {},
     "output_type": "execute_result"
    }
   ],
   "source": [
    "\n",
    "# Evalute the model\n",
    "from imageai.Detection.Custom import DetectionModelTrainer\n",
    "\n",
    "trainer = DetectionModelTrainer()\n",
    "trainer.setModelTypeAsYOLOv3()\n",
    "trainer.setDataDirectory(data_directory=data_directory)\n",
    "trainer.evaluateModel(model_path=data_directory+\"/models\", json_path=data_directory+\"/json/detection_config.json\", iou_threshold=0.5, object_threshold=0.3, nms_threshold=0.5)\n"
   ]
  },
  {
   "cell_type": "code",
   "execution_count": null,
   "metadata": {},
   "outputs": [],
   "source": [
    "# Now we test this model out with test data set:\n",
    "from imageai.Detection.Custom import CustomObjectDetection\n",
    "\n",
    "detector = CustomObjectDetection()\n",
    "detector.setModelTypeAsYOLOv3()\n",
    "detector.setModelPath(\".\\data\\models\\detection_model-ex-066--loss-0014.768.h5\") \n",
    "detector.setJsonPath(data_directory+\"/json/detection_config.json\")\n",
    "detector.loadModel()\n",
    "detections = detector.detectObjectsFromImage(input_image=main_dir+\"/data/test/images/8.jpg\", output_image_path=\"./data/test/images/8-detected.jpg\")\n",
    "for detection in detections:\n",
    "    print(detection[\"name\"], \" : \", detection[\"percentage_probability\"], \" : \", detection[\"box_points\"])"
   ]
  },
  {
   "cell_type": "code",
   "execution_count": null,
   "metadata": {},
   "outputs": [],
   "source": []
  }
 ],
 "metadata": {
  "interpreter": {
   "hash": "004e2b65cc26d8c8070b99ff3ca6bf1ddf16e5787046edb4321d784d4e7add6b"
  },
  "kernelspec": {
   "display_name": "Python 3.8.0 ('cs1430_env': venv)",
   "language": "python",
   "name": "python3"
  },
  "language_info": {
   "codemirror_mode": {
    "name": "ipython",
    "version": 3
   },
   "file_extension": ".py",
   "mimetype": "text/x-python",
   "name": "python",
   "nbconvert_exporter": "python",
   "pygments_lexer": "ipython3",
   "version": "3.8.0"
  },
  "orig_nbformat": 4
 },
 "nbformat": 4,
 "nbformat_minor": 2
}
